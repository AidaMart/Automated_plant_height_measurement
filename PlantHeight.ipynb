{
 "cells": [
  {
   "cell_type": "code",
   "execution_count": 1,
   "id": "f920f326",
   "metadata": {},
   "outputs": [],
   "source": [
    "# Importing the necessary libraries\n",
    "\n",
    "import imutils.contours\n",
    "import argparse\n",
    "import numpy as np\n",
    "import glob\n",
    "import cv2\n",
    "import os"
   ]
  },
  {
   "cell_type": "markdown",
   "id": "b7e990b9",
   "metadata": {},
   "source": [
    "**Input collection**"
   ]
  },
  {
   "cell_type": "code",
   "execution_count": 2,
   "id": "660cc5e5",
   "metadata": {},
   "outputs": [
    {
     "data": {
      "text/plain": [
       "'C:\\\\Users\\\\Aida\\\\Downloads'"
      ]
     },
     "execution_count": 2,
     "metadata": {},
     "output_type": "execute_result"
    }
   ],
   "source": [
    "# Checking if we are in the correct directory (the one from which we should read the test image)\n",
    "\n",
    "os.getcwd()"
   ]
  },
  {
   "cell_type": "code",
   "execution_count": 3,
   "id": "7d5546a3",
   "metadata": {},
   "outputs": [],
   "source": [
    "# Reading the test image\n",
    "\n",
    "image = cv2.imread(r'C:\\\\Users\\\\Aida\\\\Downloads\\\\flower.jpeg')\n",
    "# Run the below code to see the image\n",
    "# cv2.imshow(\"Image\", image)\n",
    "# cv2.waitKey(0)"
   ]
  },
  {
   "cell_type": "code",
   "execution_count": 4,
   "id": "256b6a39",
   "metadata": {},
   "outputs": [],
   "source": [
    "# Giving the fixed object's width in mm as an input\n",
    "\n",
    "width = 30"
   ]
  },
  {
   "cell_type": "markdown",
   "id": "edf314eb",
   "metadata": {},
   "source": [
    "**Image Processing**"
   ]
  },
  {
   "cell_type": "code",
   "execution_count": 5,
   "id": "895e5182",
   "metadata": {},
   "outputs": [],
   "source": [
    "# Making the image gray for easier calculations, then making it more smooth\n",
    "\n",
    "greyscale = cv2.cvtColor(image, cv2.COLOR_BGR2GRAY)\n",
    "greyscale = cv2.GaussianBlur(greyscale, (7, 7), 0)"
   ]
  },
  {
   "cell_type": "code",
   "execution_count": 6,
   "id": "6d023e26",
   "metadata": {},
   "outputs": [],
   "source": [
    "# Finding the edges of the image\n",
    "\n",
    "canny_output = cv2.Canny(greyscale, 50, 100)\n",
    "canny_output = cv2.dilate(canny_output, None, iterations=1)\n",
    "canny_output = cv2.erode(canny_output, None, iterations=1)"
   ]
  },
  {
   "cell_type": "code",
   "execution_count": 7,
   "id": "cc884510",
   "metadata": {},
   "outputs": [],
   "source": [
    "# Defining a function for selecting good parameters to have better edged image\n",
    "\n",
    "def auto_canny(image, sigma=0.33):\n",
    "    # compute the median of the single channel pixel intensities\n",
    "    v = np.median(image)\n",
    "    # apply automatic Canny edge detection using the computed median\n",
    "    lower = int(max(0, (1.0 - sigma) * v))\n",
    "    upper = int(min(255, (1.0 + sigma) * v))\n",
    "    edged = (lower, upper)\n",
    "    # return the possible good parameters\n",
    "    return edged\n",
    "\n",
    "#auto_canny(image)"
   ]
  },
  {
   "cell_type": "code",
   "execution_count": 8,
   "id": "c39d5e7c",
   "metadata": {},
   "outputs": [],
   "source": [
    "# Finding the contours of the objects, sorting them from left-to-right\n",
    "\n",
    "contours, hierarchy = cv2.findContours(canny_output, cv2.RETR_EXTERNAL, cv2.CHAIN_APPROX_SIMPLE)\n",
    "(contours, hierarchy) = imutils.contours.sort_contours(contours)\n",
    "\n",
    "# if you want to see the contours run the below code\n",
    "\n",
    "# cv2.drawContours(image, contours, contourIdx = -1, color = (0, 255, 0), thickness = 3)\n",
    "# cv2.imshow('Contours', image)\n",
    "# cv2.waitKey(0)\n",
    "# cv2.destroyAllWindows()"
   ]
  },
  {
   "cell_type": "code",
   "execution_count": 9,
   "id": "dbd0de44",
   "metadata": {},
   "outputs": [],
   "source": [
    "# Finding the coordinates to draw bounding rectangles based on previosly founded contours\n",
    "\n",
    "contours_poly = [None]*len(contours)\n",
    "boundRect = [None]*len(contours)\n",
    "\n",
    "for i, c in enumerate(contours):\n",
    "    contours_poly[i] = cv2.approxPolyDP(c, 3, True)\n",
    "    boundRect[i] = cv2.boundingRect(contours_poly[i])\n",
    "    \n",
    "output_image = image.copy()\n",
    "mmPerPixel = width / boundRect[0][2]\n",
    "highestRect = 1\n",
    "lowestRect = 0\n",
    "\n",
    "for i in range(1, len(contours)):\n",
    "\n",
    "    # if the rectangle is too small, continue\n",
    "    if boundRect[i][2] < 50 or boundRect[i][3] < 50:\n",
    "        continue\n",
    "\n",
    "    # finding the highest and lowest rectangles\n",
    "    if lowestRect > boundRect[i][1]:\n",
    "        lowestRect = boundRect[i][1]\n",
    "    if highestRect < (boundRect[i][1] + boundRect[i][3]):\n",
    "        highestRect = (boundRect[i][1] + boundRect[i][3])\n",
    "\n",
    "    # creating the boundary boxes\n",
    "    cv2.rectangle(output_image, (int(boundRect[i][0]), int(boundRect[i][1])),\n",
    "                  (int(boundRect[i][0] + boundRect[i][2]),\n",
    "                  int(boundRect[i][1] + boundRect[i][3])), (255, 0, 0), 2)"
   ]
  },
  {
   "cell_type": "markdown",
   "id": "b17c285b",
   "metadata": {},
   "source": [
    "**Measuring the height of the plant**"
   ]
  },
  {
   "cell_type": "code",
   "execution_count": 10,
   "id": "587001dc",
   "metadata": {},
   "outputs": [
    {
     "name": "stdout",
     "output_type": "stream",
     "text": [
      "Plant height is 190mm\n"
     ]
    }
   ],
   "source": [
    "# Calculating the size of our plant\n",
    "\n",
    "plantHeight = (highestRect - lowestRect) * mmPerPixel\n",
    "print(\"Plant height is {0:.0f}mm\".format(plantHeight))"
   ]
  },
  {
   "cell_type": "code",
   "execution_count": 11,
   "id": "c53a3ac7",
   "metadata": {},
   "outputs": [
    {
     "data": {
      "text/plain": [
       "107"
      ]
     },
     "execution_count": 11,
     "metadata": {},
     "output_type": "execute_result"
    }
   ],
   "source": [
    "# Resizing and displaying the image \n",
    "resized_image = cv2.resize(output_image, (1280, 720))\n",
    "cv2.imshow(\"Image\", resized_image)\n",
    "cv2.waitKey(0)"
   ]
  }
 ],
 "metadata": {
  "kernelspec": {
   "display_name": "Python 3",
   "language": "python",
   "name": "python3"
  },
  "language_info": {
   "codemirror_mode": {
    "name": "ipython",
    "version": 3
   },
   "file_extension": ".py",
   "mimetype": "text/x-python",
   "name": "python",
   "nbconvert_exporter": "python",
   "pygments_lexer": "ipython3",
   "version": "3.8.5"
  }
 },
 "nbformat": 4,
 "nbformat_minor": 5
}
